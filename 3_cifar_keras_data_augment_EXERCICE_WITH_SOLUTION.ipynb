{
 "cells": [
  {
   "cell_type": "markdown",
   "metadata": {},
   "source": [
    "# Introduction to tf.keras"
   ]
  },
  {
   "cell_type": "code",
   "execution_count": null,
   "metadata": {
    "ExecuteTime": {
     "end_time": "2019-03-24T18:57:52.764055Z",
     "start_time": "2019-03-24T18:57:51.108235Z"
    }
   },
   "outputs": [],
   "source": [
    "import sys\n",
    "import tensorflow as tf\n",
    "\n",
    "import numpy as np\n",
    "%matplotlib inline\n",
    "import random\n",
    "import matplotlib.pyplot as plt"
   ]
  },
  {
   "cell_type": "code",
   "execution_count": null,
   "metadata": {
    "ExecuteTime": {
     "end_time": "2019-03-24T18:57:53.465931Z",
     "start_time": "2019-03-24T18:57:53.453335Z"
    }
   },
   "outputs": [],
   "source": [
    "# Python version 3.5 or 3.6\n",
    "assert sys.version_info >= (3, 5)\n",
    "assert sys.version_info < (3, 7)\n",
    "# Tensorflow 2.0\n",
    "assert tf.__version__ >= \"2.0\""
   ]
  },
  {
   "cell_type": "markdown",
   "metadata": {},
   "source": [
    "We will take a look at a first concrete example of a neural network, which makes use of `tf.keras` to learn to classify \n",
    "images. \n",
    "\n",
    "The problem we are trying to solve here is to classify RGB images (32 pixels by 32 pixels), into their 10 categories (_airplane_, _automobile_, _bird_, _cat_, _deer_, _dog_, _frog_, _horse_, _ship_, _truck_). The dataset we will use is the CIFAR10 dataset, a classic dataset in the machine learning community."
   ]
  },
  {
   "cell_type": "markdown",
   "metadata": {},
   "source": [
    "# Input Data Management"
   ]
  },
  {
   "cell_type": "markdown",
   "metadata": {},
   "source": [
    "## Download the dataset"
   ]
  },
  {
   "cell_type": "markdown",
   "metadata": {},
   "source": [
    "The CIFAR10 dataset comes pre-loaded in Keras, in the form of a set of four Numpy arrays.\n",
    "\n",
    "Documentation : https://www.tensorflow.org/api_docs/python/tf/keras/datasets/cifar10"
   ]
  },
  {
   "cell_type": "code",
   "execution_count": null,
   "metadata": {
    "ExecuteTime": {
     "end_time": "2019-03-24T18:58:11.318974Z",
     "start_time": "2019-03-24T18:58:11.048847Z"
    }
   },
   "outputs": [],
   "source": [
    "(train_images, train_labels), (test_images, test_labels) = tf.keras.datasets.cifar10.load_data()"
   ]
  },
  {
   "cell_type": "markdown",
   "metadata": {},
   "source": [
    "## Visualize the data"
   ]
  },
  {
   "cell_type": "markdown",
   "metadata": {},
   "source": [
    "Let's print the shapes of the datasets"
   ]
  },
  {
   "cell_type": "code",
   "execution_count": null,
   "metadata": {
    "ExecuteTime": {
     "end_time": "2019-03-24T18:58:28.338440Z",
     "start_time": "2019-03-24T18:58:28.335123Z"
    }
   },
   "outputs": [],
   "source": [
    "print(\"Train images shape : {}\".format(train_images.shape))\n",
    "print(\"Train labels shape : {}\".format(train_labels.shape))\n",
    "print(\"Test images shape : {}\".format(test_images.shape))\n",
    "print(\"Test labels shape : {}\".format(test_labels.shape))"
   ]
  },
  {
   "cell_type": "markdown",
   "metadata": {},
   "source": [
    "Let's see how the images look. This function shows a random example along with it's corresponding label."
   ]
  },
  {
   "cell_type": "code",
   "execution_count": null,
   "metadata": {
    "ExecuteTime": {
     "end_time": "2019-03-24T18:58:33.106460Z",
     "start_time": "2019-03-24T18:58:33.000201Z"
    }
   },
   "outputs": [],
   "source": [
    "i = random.randint(0, 100)\n",
    "\n",
    "print(\"Label: %s\" % train_labels[i])\n",
    "plt.imshow(train_images[i], cmap='gray')"
   ]
  },
  {
   "cell_type": "markdown",
   "metadata": {},
   "source": [
    "Thats a little blurry !"
   ]
  },
  {
   "cell_type": "markdown",
   "metadata": {},
   "source": [
    "Our workflow will be as follow: first we will present our neural network with the training data, `train_images` and `train_labels`. The network will then learn to associate images and labels. Finally, we will ask the network to produce predictions for `test_images`, and we will verify if these predictions match the labels from `test_labels`."
   ]
  },
  {
   "cell_type": "markdown",
   "metadata": {},
   "source": [
    "## Reformat the data"
   ]
  },
  {
   "cell_type": "markdown",
   "metadata": {},
   "source": [
    "The labels have values from 0 to 9, but neural networks need instead to have access to a one-hot encoded vector (a vector of length 10 with all zeros but one at the index of the label).\n",
    "\n",
    "Documentation : https://www.tensorflow.org/api_docs/python/tf/keras/utils/to_categorical"
   ]
  },
  {
   "cell_type": "code",
   "execution_count": null,
   "metadata": {
    "ExecuteTime": {
     "end_time": "2019-03-24T18:59:20.841419Z",
     "start_time": "2019-03-24T18:59:20.837000Z"
    }
   },
   "outputs": [],
   "source": [
    "NUM_CAT = 10\n",
    "print(\"Before\", train_labels[0]) # The format of the labels before conversion\n",
    "train_cat  = tf.keras.utils.to_categorical(train_labels, NUM_CAT)\n",
    "print(\"After\", train_labels[0]) # The format of the labels after conversion\n",
    "test_cat = tf.keras.utils.to_categorical(test_labels, NUM_CAT)"
   ]
  },
  {
   "cell_type": "markdown",
   "metadata": {},
   "source": [
    "Train and test images values are integers from 1 to 255. We need to convert then into floats with values from 0 to 1.\n",
    "\n",
    "> <div class=\"mark\">Cast the images to floats and convert the pixel values from integers between 0 and 255 to floats between 0 and 1</div><i class=\"fa fa-lightbulb-o \"></i>\n",
    "\n",
    "Hint : Use the `astype` numpy function"
   ]
  },
  {
   "cell_type": "code",
   "execution_count": null,
   "metadata": {
    "ExecuteTime": {
     "end_time": "2019-03-24T18:59:34.176191Z",
     "start_time": "2019-03-24T18:59:33.936268Z"
    }
   },
   "outputs": [],
   "source": [
    "train_images_01 = train_images.astype(np.float32) / 255\n",
    "test_images_01 = test_images.astype(np.float32) / 255"
   ]
  },
  {
   "cell_type": "markdown",
   "metadata": {
    "solution2": "hidden",
    "solution2_first": true
   },
   "source": [
    "We will apply image augmentation in the input processing pipeline. Here are the transformations we can apply :\n",
    "- `random_flip_left_right` : Flip the image\n",
    "- `random_brightness` : Randomly modify image brightness (use the `max_delta`, for example with a value of 32.0/255)\n",
    "- `random_saturation` : Randomly modify image brightness (use the `lower` and `upper` arguments, for example with values 0.5 and 1.5 respectively)\n",
    "\n",
    "Finally, in order to make sure the image values are still in the [0,1] interval, use the `clip_by_value` function.\n",
    "\n",
    "Remember to only apply these transformations to the train set, not the test set, as we want the test images to be the real ones.\n",
    "\n",
    "> <div class=\"mark\">Create the _train_preprocess function to apply image augmentation.</div><i class=\"fa fa-lightbulb-o \"></i>\n",
    "\n",
    "Documentation : \n",
    "- TODO"
   ]
  },
  {
   "cell_type": "code",
   "execution_count": null,
   "metadata": {
    "solution2": "hidden"
   },
   "outputs": [],
   "source": [
    "def _train_preprocess(image, label):\n",
    "    # Flip image\n",
    "    image = tf.image.random_flip_left_right(image)\n",
    "    # Random Brightness\n",
    "    image = tf.image.random_brightness(image, max_delta=32.0 / 255.0)\n",
    "    # Random Saturation\n",
    "    image = tf.image.random_saturation(image, lower=0.5, upper=1.5)\n",
    "    # Clip values between 0 and 1\n",
    "    image = tf.clip_by_value(image, 0.0, 1.0)\n",
    "\n",
    "    return image, label"
   ]
  },
  {
   "cell_type": "code",
   "execution_count": null,
   "metadata": {},
   "outputs": [],
   "source": [
    "def _train_preprocess(image, label):\n",
    "    # Flip image\n",
    "    image = # TODO\n",
    "    # Random Brightness\n",
    "    image = # TODO\n",
    "    # Random Saturation\n",
    "    image = # TODO\n",
    "    # Clip values between 0 and 1\n",
    "    image = # TODO\n",
    "\n",
    "    return image, label"
   ]
  },
  {
   "cell_type": "markdown",
   "metadata": {},
   "source": [
    "> <div class=\"mark\">Add the function to the training input pipeline</div><i class=\"fa fa-lightbulb-o \"></i>"
   ]
  },
  {
   "cell_type": "markdown",
   "metadata": {},
   "source": [
    "> TODO"
   ]
  },
  {
   "cell_type": "markdown",
   "metadata": {},
   "source": [
    "# Model Management"
   ]
  },
  {
   "cell_type": "markdown",
   "metadata": {},
   "source": [
    "The core building block of neural networks is the \"layer\", a data-processing module which you can conceive as a \"filter\" for data. Some data comes in, and comes out in a more useful form. Precisely, layers extract _representations_ out of the data fed into them -- hopefully representations that are more meaningful for the problem at hand. Most of deep learning really consists of chaining together simple layers which will implement a form of progressive \"data distillation\". A deep learning model is like a sieve for data processing, made of a succession of increasingly refined data filters -- the \"layers\".\n",
    "\n",
    "The last layer is a 10-way \"softmax\" layer, which means it will return an array of 10 probability scores (summing to 1). Each score will be the probability that the current image belongs to one of our 10 classes."
   ]
  },
  {
   "cell_type": "markdown",
   "metadata": {},
   "source": [
    "## Build the model"
   ]
  },
  {
   "cell_type": "markdown",
   "metadata": {},
   "source": [
    "Our Neural Network will contain the following building blocks : \n",
    "- Conv2D Layer : 16 filters, (3, 3) kernel, relu activation, input shape (32, 32, 3)\n",
    "- MaxPooling2D : pool size (2, 2)\n",
    "- Conv2D Layer : 32 filters, (3, 3) kernel, relu activation\n",
    "- MaxPooling2D : pool size (2, 2)\n",
    "- Flatten layer\n",
    "- Dense Layer : 10 neurons, softmax activation\n",
    "\n",
    "Documentation : \n",
    "- https://www.tensorflow.org/api_docs/python/tf/keras/models/Sequential\n",
    "- https://www.tensorflow.org/api_docs/python/tf/keras/layers/Conv2D\n",
    "- https://www.tensorflow.org/api_docs/python/tf/keras/layers/MaxPool2D\n",
    "- https://www.tensorflow.org/api_docs/python/tf/keras/layers/Flatten\n",
    "- https://www.tensorflow.org/api_docs/python/tf/keras/layers/Dense"
   ]
  },
  {
   "cell_type": "code",
   "execution_count": null,
   "metadata": {
    "ExecuteTime": {
     "end_time": "2019-03-24T19:01:01.783857Z",
     "start_time": "2019-03-24T19:01:01.639600Z"
    }
   },
   "outputs": [],
   "source": [
    "model = tf.keras.models.Sequential()\n",
    "model.add(tf.keras.layers.Conv2D(filters=16, kernel_size=(3, 3), activation='relu', input_shape=(32, 32, 3)))\n",
    "model.add(tf.keras.layers.MaxPooling2D((2, 2)))\n",
    "model.add(tf.keras.layers.Conv2D(filters=32, kernel_size=(3, 3), activation='relu'))\n",
    "model.add(tf.keras.layers.MaxPooling2D((2, 2)))\n",
    "model.add(tf.keras.layers.Flatten())\n",
    "model.add(tf.keras.layers.Dense(10, activation='softmax'))"
   ]
  },
  {
   "cell_type": "markdown",
   "metadata": {},
   "source": [
    "To make our network ready for training, we need to pick three more things, as part of \"compilation\" step:\n",
    "\n",
    "* A loss function: the is how the network will be able to measure how good a job it is doing on its training data, and thus how it will be able to steer itself in the right direction.\n",
    "* An optimizer: this is the mechanism through which the network will update itself based on the data it sees and its loss function.\n",
    "* Metrics to monitor during training and testing. Here we will only care about accuracy (the fraction of the images that were correctly classified).\n",
    "\n",
    "You will implement the following compilation step for your Neural Network : \n",
    "- \"adam\" optimizer\n",
    "- \"categorical_crossentropy\" loss\n",
    "- metric : \"accuracy\"\n",
    "\n",
    "Documentation : https://www.tensorflow.org/api_docs/python/tf/keras/models/Sequential#compile"
   ]
  },
  {
   "cell_type": "code",
   "execution_count": null,
   "metadata": {
    "ExecuteTime": {
     "end_time": "2019-03-24T19:01:14.231611Z",
     "start_time": "2019-03-24T19:01:14.137344Z"
    }
   },
   "outputs": [],
   "source": [
    "optimizer = tf.optimizers.Adam()\n",
    "\n",
    "model.compile(loss='categorical_crossentropy',\n",
    "              optimizer=optimizer,\n",
    "              metrics=['accuracy'])"
   ]
  },
  {
   "cell_type": "markdown",
   "metadata": {},
   "source": [
    "Summarize the model"
   ]
  },
  {
   "cell_type": "code",
   "execution_count": null,
   "metadata": {
    "ExecuteTime": {
     "end_time": "2019-03-24T19:01:18.691687Z",
     "start_time": "2019-03-24T19:01:18.687538Z"
    }
   },
   "outputs": [],
   "source": [
    "model.summary()"
   ]
  },
  {
   "cell_type": "markdown",
   "metadata": {},
   "source": [
    "## Train the model"
   ]
  },
  {
   "cell_type": "markdown",
   "metadata": {
    "ExecuteTime": {
     "end_time": "2019-03-19T10:14:34.658684Z",
     "start_time": "2019-03-19T10:14:34.653107Z"
    }
   },
   "source": [
    "We are now ready to train our network, which in Keras is done via a call to the `fit` method of the network: \n",
    "we \"fit\" the model to its training data."
   ]
  },
  {
   "cell_type": "markdown",
   "metadata": {},
   "source": [
    "You will fit the network with the following configurations :\n",
    "- 5 epochs (passes on the whole dataset)\n",
    "- batchs of 128 images\n",
    "\n",
    "Documentation : https://www.tensorflow.org/api_docs/python/tf/keras/models/Sequential#fit\n",
    "\n",
    "You will also add a callback for launching TensorBoard to observe how the training is performing."
   ]
  },
  {
   "cell_type": "code",
   "execution_count": null,
   "metadata": {
    "ExecuteTime": {
     "end_time": "2019-03-24T19:01:23.654806Z",
     "start_time": "2019-03-24T19:01:23.651602Z"
    }
   },
   "outputs": [],
   "source": [
    "tensorboard = tf.keras.callbacks.TensorBoard(log_dir='./tensorboard/tf_keras', histogram_freq=0, write_graph=True, write_images=True)"
   ]
  },
  {
   "cell_type": "code",
   "execution_count": null,
   "metadata": {
    "ExecuteTime": {
     "end_time": "2019-03-24T19:02:15.075702Z",
     "start_time": "2019-03-24T19:01:33.592933Z"
    }
   },
   "outputs": [],
   "source": [
    "model.fit(train_images_01, train_cat, epochs=5, batch_size=32, callbacks=[tensorboard])"
   ]
  },
  {
   "cell_type": "markdown",
   "metadata": {},
   "source": [
    "Two quantities are being displayed during training: the \"loss\" of the network over the training data, and the accuracy of the network over the training data."
   ]
  },
  {
   "cell_type": "markdown",
   "metadata": {},
   "source": [
    "# Model Performance Evaluation"
   ]
  },
  {
   "cell_type": "markdown",
   "metadata": {},
   "source": [
    "Now let's check that our model performs well on the test set too.\n",
    "\n",
    "You can do this by calling the `evaluate` method of your network.\n",
    "\n",
    "Documentation : https://www.tensorflow.org/api_docs/python/tf/keras/models/Sequential#evaluate"
   ]
  },
  {
   "cell_type": "code",
   "execution_count": null,
   "metadata": {
    "ExecuteTime": {
     "end_time": "2019-03-24T19:02:15.771397Z",
     "start_time": "2019-03-24T19:02:15.077183Z"
    }
   },
   "outputs": [],
   "source": [
    "loss, accuracy = model.evaluate(test_images_01, test_cat)\n",
    "\n",
    "print('Test accuracy: %.2f' % (accuracy))"
   ]
  }
 ],
 "metadata": {
  "kernelspec": {
   "display_name": "Python 3",
   "language": "python",
   "name": "python3"
  },
  "language_info": {
   "codemirror_mode": {
    "name": "ipython",
    "version": 3
   },
   "file_extension": ".py",
   "mimetype": "text/x-python",
   "name": "python",
   "nbconvert_exporter": "python",
   "pygments_lexer": "ipython3",
   "version": "3.6.7"
  },
  "toc": {
   "base_numbering": 1,
   "nav_menu": {
    "height": "256px",
    "width": "264px"
   },
   "number_sections": true,
   "sideBar": true,
   "skip_h1_title": false,
   "title_cell": "Table of Contents",
   "title_sidebar": "Contents",
   "toc_cell": false,
   "toc_position": {
    "height": "calc(100% - 180px)",
    "left": "10px",
    "top": "150px",
    "width": "384px"
   },
   "toc_section_display": true,
   "toc_window_display": true
  }
 },
 "nbformat": 4,
 "nbformat_minor": 2
}
